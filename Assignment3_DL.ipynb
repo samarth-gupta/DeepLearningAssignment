{
 "cells": [
  {
   "cell_type": "code",
   "execution_count": 1,
   "metadata": {},
   "outputs": [
    {
     "name": "stderr",
     "output_type": "stream",
     "text": [
      "Using TensorFlow backend.\n"
     ]
    }
   ],
   "source": [
    "import os\n",
    "import pickle\n",
    "import numpy as np\n",
    "import pandas as pd\n",
    "import cv2\n",
    "import matplotlib.pyplot as plt\n",
    "import keras\n",
    "import sklearn\n",
    "from keras.models import Sequential\n",
    "from keras.layers import Dense,Dropout,Flatten,Activation\n",
    "from keras.layers import Conv2D, MaxPooling2D, GlobalMaxPool2D\n",
    "from keras.optimizers import Adam\n",
    "from keras import backend as K\n",
    "from keras.preprocessing.image import ImageDataGenerator\n",
    "from keras.callbacks import ModelCheckpoint"
   ]
  },
  {
   "cell_type": "code",
   "execution_count": 2,
   "metadata": {},
   "outputs": [],
   "source": [
    "X_train = pd.read_pickle('Assignment3/trainX.pickle')\n",
    "y_train = pd.read_pickle('Assignment3/trainY.pickle')"
   ]
  },
  {
   "cell_type": "code",
   "execution_count": 3,
   "metadata": {
    "scrolled": true
   },
   "outputs": [
    {
     "data": {
      "image/png": "[encoded data removed]",
      "text/plain": [
       "<Figure size 432x288 with 1 Axes>"
      ]
     },
     "metadata": {},
     "output_type": "display_data"
    }
   ],
   "source": [
    "plt.imshow(X_train[0])\n",
    "plt.show()"
   ]
  },
  {
   "cell_type": "code",
   "execution_count": 4,
   "metadata": {},
   "outputs": [
    {
     "data": {
      "text/plain": [
       "9"
      ]
     },
     "execution_count": 4,
     "metadata": {},
     "output_type": "execute_result"
    }
   ],
   "source": [
    "y_train[0]"
   ]
  },
  {
   "cell_type": "code",
   "execution_count": 5,
   "metadata": {},
   "outputs": [
    {
     "data": {
      "image/png": "[encoded data removed]",
      "text/plain": [
       "<Figure size 432x288 with 1 Axes>"
      ]
     },
     "metadata": {},
     "output_type": "display_data"
    }
   ],
   "source": [
    "plt.imshow(X_train[10])\n",
    "plt.show()"
   ]
  },
  {
   "cell_type": "code",
   "execution_count": 6,
   "metadata": {
    "scrolled": true
   },
   "outputs": [
    {
     "name": "stdout",
     "output_type": "stream",
     "text": [
      "(60000, 28, 28)\n",
      "(60000,)\n"
     ]
    }
   ],
   "source": [
    "print(X_train.shape)\n",
    "print(y_train.shape)"
   ]
  },
  {
   "cell_type": "code",
   "execution_count": 7,
   "metadata": {},
   "outputs": [
    {
     "data": {
      "text/plain": [
       "(28, 28)"
      ]
     },
     "execution_count": 7,
     "metadata": {},
     "output_type": "execute_result"
    }
   ],
   "source": [
    "X_train[0].shape"
   ]
  },
  {
   "cell_type": "code",
   "execution_count": 8,
   "metadata": {},
   "outputs": [
    {
     "data": {
      "text/plain": [
       "{0, 1, 2, 3, 4, 5, 6, 7, 8, 9}"
      ]
     },
     "execution_count": 8,
     "metadata": {},
     "output_type": "execute_result"
    }
   ],
   "source": [
    "set(y_train)"
   ]
  },
  {
   "cell_type": "code",
   "execution_count": 9,
   "metadata": {},
   "outputs": [],
   "source": [
    "# Preprocess data, normalize, make one hot encoding\n",
    "X_train = X_train.astype('float32')\n",
    "X_train /= 255\n",
    "\n",
    "y_train = keras.utils.to_categorical(y_train,10)"
   ]
  },
  {
   "cell_type": "code",
   "execution_count": 10,
   "metadata": {},
   "outputs": [],
   "source": [
    "trainX = X_train[:48000]\n",
    "valX = X_train[48000:54000]\n",
    "testX = X_train[54000:]\n",
    "\n",
    "trainY = y_train[:48000]\n",
    "valY = y_train[48000:54000]\n",
    "testY = y_train[54000:]"
   ]
  },
  {
   "cell_type": "code",
   "execution_count": 11,
   "metadata": {},
   "outputs": [
    {
     "name": "stdout",
     "output_type": "stream",
     "text": [
      "(48000, 28, 28, 1) (6000, 28, 28, 1) (6000, 28, 28, 1)\n",
      "(48000, 10) (6000, 10) (6000, 10)\n"
     ]
    }
   ],
   "source": [
    "trainX = np.reshape(trainX, (48000,28,28,1))\n",
    "trainY = np.reshape(trainY, (48000,10))\n",
    "valX = np.reshape(valX, (6000,28,28,1))\n",
    "valY = np.reshape(valY, (6000,10))\n",
    "testX = np.reshape(testX, (6000,28,28,1))\n",
    "testY = np.reshape(testY, (6000,10))\n",
    "print(trainX.shape,valX.shape,testX.shape)\n",
    "print(trainY.shape,valY.shape,testY.shape)"
   ]
  },
  {
   "cell_type": "code",
   "execution_count": 12,
   "metadata": {
    "scrolled": false
   },
   "outputs": [
    {
     "name": "stdout",
     "output_type": "stream",
     "text": [
      "_________________________________________________________________\n",
      "Layer (type)                 Output Shape              Param #   \n",
      "=================================================================\n",
      "conv2d_1 (Conv2D)            (None, 28, 28, 32)        320       \n",
      "_________________________________________________________________\n",
      "activation_1 (Activation)    (None, 28, 28, 32)        0         \n",
      "_________________________________________________________________\n",
      "max_pooling2d_1 (MaxPooling2 (None, 14, 14, 32)        0         \n",
      "_________________________________________________________________\n",
      "conv2d_2 (Conv2D)            (None, 14, 14, 32)        9248      \n",
      "_________________________________________________________________\n",
      "activation_2 (Activation)    (None, 14, 14, 32)        0         \n",
      "_________________________________________________________________\n",
      "max_pooling2d_2 (MaxPooling2 (None, 7, 7, 32)          0         \n",
      "_________________________________________________________________\n",
      "conv2d_3 (Conv2D)            (None, 7, 7, 16)          4624      \n",
      "_________________________________________________________________\n",
      "activation_3 (Activation)    (None, 7, 7, 16)          0         \n",
      "_________________________________________________________________\n",
      "max_pooling2d_3 (MaxPooling2 (None, 3, 3, 16)          0         \n",
      "_________________________________________________________________\n",
      "flatten_1 (Flatten)          (None, 144)               0         \n",
      "_________________________________________________________________\n",
      "dense_1 (Dense)              (None, 128)               18560     \n",
      "_________________________________________________________________\n",
      "activation_4 (Activation)    (None, 128)               0         \n",
      "_________________________________________________________________\n",
      "dropout_1 (Dropout)          (None, 128)               0         \n",
      "_________________________________________________________________\n",
      "dense_2 (Dense)              (None, 10)                1290      \n",
      "_________________________________________________________________\n",
      "activation_5 (Activation)    (None, 10)                0         \n",
      "=================================================================\n",
      "Total params: 34,042\n",
      "Trainable params: 34,042\n",
      "Non-trainable params: 0\n",
      "_________________________________________________________________\n"
     ]
    }
   ],
   "source": [
    "# initialize the model\n",
    "model = Sequential()\n",
    "# first set of CONV => RELU => POOL layers\n",
    "model.add(Conv2D(32, (3, 3), padding=\"same\",input_shape=(28,28,1)))\n",
    "model.add(Activation(\"relu\"))\n",
    "model.add(MaxPooling2D(pool_size=(2, 2)))\n",
    "\n",
    "# second set of CONV => RELU => POOL layers\n",
    "model.add(Conv2D(32, (3,3), padding=\"same\"))\n",
    "model.add(Activation(\"relu\"))\n",
    "model.add(MaxPooling2D(pool_size=(2, 2)))\n",
    "\n",
    "# third set of CONV => RELU => POOL layers\n",
    "model.add(Conv2D(16, (3,3), padding=\"same\"))\n",
    "model.add(Activation(\"relu\"))\n",
    "model.add(MaxPooling2D(pool_size=(2, 2)))\n",
    "\n",
    "# first (and only) set of FC => RELU layers\n",
    "model.add(Flatten())\n",
    "model.add(Dense(128))\n",
    "model.add(Activation(\"relu\"))\n",
    "model.add(Dropout(0.25))\n",
    "# softmax classifier\n",
    "model.add(Dense(10))\n",
    "model.add(Activation(\"softmax\"))\n",
    "model.summary()"
   ]
  },
  {
   "cell_type": "code",
   "execution_count": 13,
   "metadata": {},
   "outputs": [],
   "source": [
    "model.compile(optimizer='adam', loss='categorical_crossentropy', metrics=['accuracy'])"
   ]
  },
  {
   "cell_type": "code",
   "execution_count": 14,
   "metadata": {
    "scrolled": false
   },
   "outputs": [
    {
     "name": "stdout",
     "output_type": "stream",
     "text": [
      "Train on 48000 samples, validate on 6000 samples\n",
      "Epoch 1/30\n",
      "48000/48000 [==============================] - 38s 790us/step - loss: 0.7728 - acc: 0.7180 - val_loss: 0.5117 - val_acc: 0.8142\n",
      "\n",
      "Epoch 00001: val_loss improved from inf to 0.51173, saving model to model.h5\n",
      "Epoch 2/30\n",
      "48000/48000 [==============================] - 37s 773us/step - loss: 0.4742 - acc: 0.8276 - val_loss: 0.3919 - val_acc: 0.8570\n",
      "\n",
      "Epoch 00002: val_loss improved from 0.51173 to 0.39188, saving model to model.h5\n",
      "Epoch 3/30\n",
      "48000/48000 [==============================] - 37s 778us/step - loss: 0.3998 - acc: 0.8554 - val_loss: 0.3545 - val_acc: 0.8683\n",
      "\n",
      "Epoch 00003: val_loss improved from 0.39188 to 0.35447, saving model to model.h5\n",
      "Epoch 4/30\n",
      "48000/48000 [==============================] - 37s 777us/step - loss: 0.3625 - acc: 0.8679 - val_loss: 0.3252 - val_acc: 0.8852\n",
      "\n",
      "Epoch 00004: val_loss improved from 0.35447 to 0.32516, saving model to model.h5\n",
      "Epoch 5/30\n",
      "48000/48000 [==============================] - 37s 771us/step - loss: 0.3378 - acc: 0.8770 - val_loss: 0.3132 - val_acc: 0.8862\n",
      "\n",
      "Epoch 00005: val_loss improved from 0.32516 to 0.31318, saving model to model.h5\n",
      "Epoch 6/30\n",
      "48000/48000 [==============================] - 37s 769us/step - loss: 0.3173 - acc: 0.8846 - val_loss: 0.2996 - val_acc: 0.8882\n",
      "\n",
      "Epoch 00006: val_loss improved from 0.31318 to 0.29963, saving model to model.h5\n",
      "Epoch 7/30\n",
      "48000/48000 [==============================] - 37s 772us/step - loss: 0.3014 - acc: 0.8897 - val_loss: 0.2882 - val_acc: 0.8923\n",
      "\n",
      "Epoch 00007: val_loss improved from 0.29963 to 0.28817, saving model to model.h5\n",
      "Epoch 8/30\n",
      "48000/48000 [==============================] - 37s 774us/step - loss: 0.2865 - acc: 0.8955 - val_loss: 0.2976 - val_acc: 0.8942\n",
      "\n",
      "Epoch 00008: val_loss did not improve from 0.28817\n",
      "Epoch 9/30\n",
      "48000/48000 [==============================] - 37s 770us/step - loss: 0.2760 - acc: 0.8978 - val_loss: 0.2729 - val_acc: 0.8995\n",
      "\n",
      "Epoch 00009: val_loss improved from 0.28817 to 0.27291, saving model to model.h5\n",
      "Epoch 10/30\n",
      "48000/48000 [==============================] - 37s 774us/step - loss: 0.2679 - acc: 0.9013 - val_loss: 0.2603 - val_acc: 0.9058\n",
      "\n",
      "Epoch 00010: val_loss improved from 0.27291 to 0.26030, saving model to model.h5\n",
      "Epoch 11/30\n",
      "48000/48000 [==============================] - 37s 776us/step - loss: 0.2543 - acc: 0.9068 - val_loss: 0.2605 - val_acc: 0.9012\n",
      "\n",
      "Epoch 00011: val_loss did not improve from 0.26030\n",
      "Epoch 12/30\n",
      "48000/48000 [==============================] - 37s 773us/step - loss: 0.2454 - acc: 0.9108 - val_loss: 0.2519 - val_acc: 0.9112\n",
      "\n",
      "Epoch 00012: val_loss improved from 0.26030 to 0.25195, saving model to model.h5\n",
      "Epoch 13/30\n",
      "48000/48000 [==============================] - 37s 770us/step - loss: 0.2382 - acc: 0.9113 - val_loss: 0.2461 - val_acc: 0.9103\n",
      "\n",
      "Epoch 00013: val_loss improved from 0.25195 to 0.24613, saving model to model.h5\n",
      "Epoch 14/30\n",
      "48000/48000 [==============================] - 37s 776us/step - loss: 0.2329 - acc: 0.9134 - val_loss: 0.2516 - val_acc: 0.9075\n",
      "\n",
      "Epoch 00014: val_loss did not improve from 0.24613\n",
      "Epoch 15/30\n",
      "48000/48000 [==============================] - 37s 777us/step - loss: 0.2233 - acc: 0.9164 - val_loss: 0.2494 - val_acc: 0.9090\n",
      "\n",
      "Epoch 00015: val_loss did not improve from 0.24613\n",
      "Epoch 16/30\n",
      "48000/48000 [==============================] - 38s 786us/step - loss: 0.2189 - acc: 0.9187 - val_loss: 0.2550 - val_acc: 0.9045\n",
      "\n",
      "Epoch 00016: val_loss did not improve from 0.24613\n",
      "Epoch 17/30\n",
      "48000/48000 [==============================] - 37s 780us/step - loss: 0.2135 - acc: 0.9208 - val_loss: 0.2468 - val_acc: 0.9120\n",
      "\n",
      "Epoch 00017: val_loss did not improve from 0.24613\n",
      "Epoch 18/30\n",
      "48000/48000 [==============================] - 38s 792us/step - loss: 0.2089 - acc: 0.9231 - val_loss: 0.2550 - val_acc: 0.9062\n",
      "\n",
      "Epoch 00018: val_loss did not improve from 0.24613\n",
      "Epoch 19/30\n",
      "48000/48000 [==============================] - 37s 777us/step - loss: 0.2028 - acc: 0.9243 - val_loss: 0.2464 - val_acc: 0.9102\n",
      "\n",
      "Epoch 00019: val_loss did not improve from 0.24613\n",
      "Epoch 20/30\n",
      "48000/48000 [==============================] - 37s 779us/step - loss: 0.1983 - acc: 0.9264 - val_loss: 0.2372 - val_acc: 0.9157\n",
      "\n",
      "Epoch 00020: val_loss improved from 0.24613 to 0.23725, saving model to model.h5\n",
      "Epoch 21/30\n",
      "48000/48000 [==============================] - 38s 782us/step - loss: 0.1946 - acc: 0.9275 - val_loss: 0.2492 - val_acc: 0.9095\n",
      "\n",
      "Epoch 00021: val_loss did not improve from 0.23725\n",
      "Epoch 22/30\n",
      "48000/48000 [==============================] - 38s 785us/step - loss: 0.1891 - acc: 0.9296 - val_loss: 0.2471 - val_acc: 0.9103\n",
      "\n",
      "Epoch 00022: val_loss did not improve from 0.23725\n",
      "Epoch 23/30\n",
      "48000/48000 [==============================] - 38s 789us/step - loss: 0.1830 - acc: 0.9311 - val_loss: 0.2563 - val_acc: 0.9030\n",
      "\n",
      "Epoch 00023: val_loss did not improve from 0.23725\n",
      "Epoch 24/30\n",
      "48000/48000 [==============================] - 38s 787us/step - loss: 0.1809 - acc: 0.9330 - val_loss: 0.2340 - val_acc: 0.9172\n",
      "\n",
      "Epoch 00024: val_loss improved from 0.23725 to 0.23405, saving model to model.h5\n",
      "Epoch 25/30\n",
      "48000/48000 [==============================] - 38s 789us/step - loss: 0.1762 - acc: 0.9335 - val_loss: 0.2392 - val_acc: 0.9127\n",
      "\n",
      "Epoch 00025: val_loss did not improve from 0.23405\n",
      "Epoch 26/30\n",
      "48000/48000 [==============================] - 38s 788us/step - loss: 0.1710 - acc: 0.9347 - val_loss: 0.2499 - val_acc: 0.9155\n",
      "\n",
      "Epoch 00026: val_loss did not improve from 0.23405\n",
      "Epoch 27/30\n",
      "48000/48000 [==============================] - 38s 786us/step - loss: 0.1702 - acc: 0.9357 - val_loss: 0.2334 - val_acc: 0.9210\n",
      "\n",
      "Epoch 00027: val_loss improved from 0.23405 to 0.23338, saving model to model.h5\n",
      "Epoch 28/30\n",
      "48000/48000 [==============================] - 38s 782us/step - loss: 0.1651 - acc: 0.9387 - val_loss: 0.2521 - val_acc: 0.9140\n",
      "\n",
      "Epoch 00028: val_loss did not improve from 0.23338\n",
      "Epoch 29/30\n",
      "48000/48000 [==============================] - 38s 783us/step - loss: 0.1620 - acc: 0.9393 - val_loss: 0.2368 - val_acc: 0.9175\n",
      "\n",
      "Epoch 00029: val_loss did not improve from 0.23338\n",
      "Epoch 30/30\n",
      "48000/48000 [==============================] - 38s 794us/step - loss: 0.1605 - acc: 0.9386 - val_loss: 0.2432 - val_acc: 0.9190\n",
      "\n",
      "Epoch 00030: val_loss did not improve from 0.23338\n",
      "Test Loss: 0.2550771809667349\n",
      "Test Accuracy: 0.9148333333333334\n"
     ]
    }
   ],
   "source": [
    "cb = ModelCheckpoint('model.h5', monitor='val_loss', verbose=1, save_best_only=True,save_weights_only=False,\n",
    "                     mode='auto', period=1)\n",
    "\n",
    "model.fit(trainX,trainY,batch_size=128,epochs=30,verbose=1,validation_data=(valX,valY),callbacks=[cb])\n",
    "\n",
    "score = model.evaluate(testX,testY,verbose=0)\n",
    "print(\"Test Loss:\",score[0])\n",
    "print(\"Test Accuracy:\",score[1])"
   ]
  },
  {
   "cell_type": "code",
   "execution_count": 15,
   "metadata": {},
   "outputs": [],
   "source": [
    "test_data = pd.read_pickle('Assignment3/testX.pickle')"
   ]
  },
  {
   "cell_type": "code",
   "execution_count": 16,
   "metadata": {},
   "outputs": [
    {
     "name": "stdout",
     "output_type": "stream",
     "text": [
      "(10000, 28, 28)\n"
     ]
    }
   ],
   "source": [
    "print(test_data.shape)"
   ]
  },
  {
   "cell_type": "code",
   "execution_count": 17,
   "metadata": {},
   "outputs": [],
   "source": [
    "test_data = test_data.astype('float32')\n",
    "test_data /= 255\n",
    "test_data = np.reshape(test_data, (10000,28,28,1))"
   ]
  },
  {
   "cell_type": "code",
   "execution_count": 18,
   "metadata": {
    "scrolled": true
   },
   "outputs": [],
   "source": [
    "y_pred = model.predict_classes(test_data)"
   ]
  },
  {
   "cell_type": "code",
   "execution_count": 19,
   "metadata": {},
   "outputs": [
    {
     "data": {
      "text/plain": [
       "array([9, 2, 1, ..., 8, 1, 7])"
      ]
     },
     "execution_count": 19,
     "metadata": {},
     "output_type": "execute_result"
    }
   ],
   "source": [
    "y_pred"
   ]
  },
  {
   "cell_type": "code",
   "execution_count": 20,
   "metadata": {},
   "outputs": [
    {
     "data": {
      "text/plain": [
       "9"
      ]
     },
     "execution_count": 20,
     "metadata": {},
     "output_type": "execute_result"
    }
   ],
   "source": [
    "y_pred[0]"
   ]
  },
  {
   "cell_type": "code",
   "execution_count": 21,
   "metadata": {},
   "outputs": [
    {
     "data": {
      "text/plain": [
       "{0, 1, 2, 3, 4, 5, 6, 7, 8, 9}"
      ]
     },
     "execution_count": 21,
     "metadata": {},
     "output_type": "execute_result"
    }
   ],
   "source": [
    "set(y_pred)"
   ]
  },
  {
   "cell_type": "code",
   "execution_count": 23,
   "metadata": {},
   "outputs": [
    {
     "data": {
      "image/png": "[encoded data removed]",
      "text/plain": [
       "<Figure size 432x288 with 1 Axes>"
      ]
     },
     "metadata": {},
     "output_type": "display_data"
    }
   ],
   "source": [
    "plt.imshow(test_data[-1].reshape(28,28))\n",
    "plt.show()"
   ]
  },
  {
   "cell_type": "code",
   "execution_count": 24,
   "metadata": {},
   "outputs": [
    {
     "data": {
      "text/plain": [
       "7"
      ]
     },
     "execution_count": 24,
     "metadata": {},
     "output_type": "execute_result"
    }
   ],
   "source": [
    "y_pred[-1]"
   ]
  },
  {
   "cell_type": "code",
   "execution_count": 26,
   "metadata": {},
   "outputs": [],
   "source": [
    "# Writing prediction results to pickle file\n",
    "with open('Assignment3/predictions.pickle','wb') as f:\n",
    "    pickle.dump(y_pred,f)"
   ]
  }
 ],
 "metadata": {
  "kernelspec": {
   "display_name": "Python 3",
   "language": "python",
   "name": "python3"
  },
  "language_info": {
   "codemirror_mode": {
    "name": "ipython",
    "version": 3
   },
   "file_extension": ".py",
   "mimetype": "text/x-python",
   "name": "python",
   "nbconvert_exporter": "python",
   "pygments_lexer": "ipython3",
   "version": "3.6.7"
  }
 },
 "nbformat": 4,
 "nbformat_minor": 2
}
